{
 "cells": [
  {
   "cell_type": "code",
   "execution_count": 1,
   "metadata": {},
   "outputs": [],
   "source": [
    "from math import log10\n"
   ]
  },
  {
   "cell_type": "code",
   "execution_count": 2,
   "metadata": {},
   "outputs": [],
   "source": [
    "from ctypes import c_uint, c_float\n",
    "\n",
    "def cast(num, rettype):\n",
    "    \"\"\"\n",
    "    Given a ctypes type, it attempts to read read a number from \n",
    "    some memory type and interpret it as a different type\n",
    "    This will have overhead, but will provide a cast like interface\n",
    "    \"\"\"\n",
    "    return rettype.from_buffer(num).value\n",
    "\n",
    "\n",
    "def cast_to_float(n):\n",
    "    return cast(c_uint(n), c_float)\n",
    "\n",
    "def cast_to_int(n):\n",
    "    return cast(c_float(n), c_uint)\n",
    "\n",
    "\n"
   ]
  },
  {
   "cell_type": "code",
   "execution_count": 7,
   "metadata": {},
   "outputs": [],
   "source": [
    "def fast_inv_sqrt(num):\n",
    "    halfnum = 0.5 * num\n",
    "    # take the number, make it a float and read it into an integer\n",
    "    inum = cast_to_int(num)\n",
    "    # use the hack\n",
    "    hack = 0x5f3759df - (inum >> 1)\n",
    "    # back into floating point\n",
    "    fnum = cast_to_float(hack)\n",
    "    print(f\"guess {fnum}\")\n",
    "    return fnum * (1.5 - halfnum * fnum * fnum) \n",
    "    \n",
    "def inv_sqrt(num):\n",
    "    return 1/num**(0.5)"
   ]
  },
  {
   "cell_type": "code",
   "execution_count": 8,
   "metadata": {},
   "outputs": [
    {
     "name": "stdout",
     "output_type": "stream",
     "text": [
      "guess 0.06112086400389671\n"
     ]
    },
    {
     "data": {
      "text/plain": [
       "1.1207861519762848e-08"
      ]
     },
     "execution_count": 8,
     "metadata": {},
     "output_type": "execute_result"
    }
   ],
   "source": [
    "test_num = 250\n",
    "(fast_inv_sqrt(test_num) - inv_sqrt(test_num))**2"
   ]
  },
  {
   "cell_type": "markdown",
   "metadata": {},
   "source": [
    "# Floating Point Numbers\n",
    "\n",
    "For the sake of simplicity, let us look at 32 bit floats. A 32 bit float is divided into 3 sections:\n",
    "\n",
    "1. The first bit for the sign. 1 in this location represents a negative number\n",
    "2. The next 8 bits for the exponent. This uses unsigned representation, but is normalised by subtracting -127 to get the floating point ranges. Note, this is not using 2's complement for it's representation. 1 in this space represents -126 and 0x80 represents 1 for example. (It's effectively a negative 2's complement)\n",
    "3. The remaining 23 bits for the mantissa. This is represented in fixed point with 1 to be added. I.e. the leading bit represents 0.5 to which 1 is added for the mantissa expression. \n",
    "\n",
    "So a floating point is given by by\n",
    "`sign * (1 + mantissa) * 2 ^ exponent`\n",
    "\n",
    "There is a special denormalised mode, when the exponent is 0, the exponent is treated as -126 and the 1+mantissa becomes just mantissa.\n",
    "\n",
    "This link here: https://www.h-schmidt.net/FloatConverter/IEEE754.html should give you some additional insight. And Wikipedia: https://en.wikipedia.org/wiki/Single-precision_floating-point_format explains it in depth too\n",
    "\n",
    "Some of this should explain things we've seen using floating point\n",
    "\n",
    "1. Since the mantissa is fixed point, the (1+mantissa) is effectively from 1 to 2\n",
    "2. That the largest number is 2 * 2 ^ 127 = 2^ 128 ~ 3.4 * 10 ^ 38\n",
    "3. Smallest positive is obtained from the denormalised mode with is 2^-126 * 2 ^-23 = 2 ^ -149 ~ 7.0 x 10^-46\n",
    "4. Smallest change in an arbitrary floating point is given by 2 ^ -23 ~ 1.19 * 10 ^-7"
   ]
  },
  {
   "cell_type": "code",
   "execution_count": 186,
   "metadata": {},
   "outputs": [],
   "source": [
    "def float_report(num):\n",
    "    # convert number to float and read in as an int\n",
    "    try:\n",
    "        num = cast_to_int(num)\n",
    "    except TypeError:\n",
    "        # we were passed a string. \n",
    "        assert num[:2] == \"0x\"\n",
    "        num = int(num, 16)\n",
    "    # convert to binary and drop the leading 0b and pad to 32 bits\n",
    "    num = bin(num)[2:].zfill(32)\n",
    "    sign = int(num[0])\n",
    "    exponent = int(num[1:9], 2)\n",
    "    mantissa = int(num[9:], 2)\n",
    "    # report mantissa as hex\n",
    "    print(f\"Sign: {sign}, exp: {exponent}, mant: {hex(mantissa)}\")\n",
    "    return sign, exponent, mantissa\n",
    "\n",
    "def make_float(sign, exponent, mantissa):\n",
    "    mant = bin(mantissa)[2:].zfill(23)\n",
    "    \n",
    "    exp = bin(exponent)[2:].zfill(8)\n",
    "    # check we've got sensible numbers\n",
    "    assert len(mant) == 23\n",
    "    assert len(exp) == 8\n",
    "    assert sign in (0,1)\n",
    "    sign = str(sign)\n",
    "    \n",
    "    bitsrep = sign + exp + mant\n",
    "    bint = int(bitsrep, 2)\n",
    "    #print(f\"Bin rep : {bitsrep}\")\n",
    "    print(f\"Hex Rep : {hex(bint).zfill(8)}\")\n",
    "    return cast_to_float(bint)"
   ]
  },
  {
   "cell_type": "code",
   "execution_count": 187,
   "metadata": {},
   "outputs": [
    {
     "name": "stdout",
     "output_type": "stream",
     "text": [
      "Sign: 1, exp: 134, mant: 0x0\n",
      "Hex Rep : 0xc3000000\n"
     ]
    },
    {
     "data": {
      "text/plain": [
       "-128.0"
      ]
     },
     "execution_count": 187,
     "metadata": {},
     "output_type": "execute_result"
    }
   ],
   "source": [
    "float_report(-128.0)\n",
    "make_float(1, 134, 0)"
   ]
  },
  {
   "cell_type": "markdown",
   "metadata": {},
   "source": [
    "# Fast Inverse Square Root\n",
    "\n",
    "The Fast inverse square root is just Newton's method with a good initial guess. Follow the maths here for some more information: https://betterexplained.com/articles/understanding-quakes-fast-inverse-square-root/. \n",
    "\n",
    "\n",
    "# The Initial guess\n",
    "\n",
    "This line`0x5f3759df - (inum >> 1)` is the secret sauce above, getting a good approximation. Let's break this down.\n",
    "\n",
    "Noting that the exponent is a bit out of sync with the mantissa, let's rewrite the magic number slightly. This can be seen by doing a left bitshift on the two leading bits and realizing thar leading 3 in the mantissa means the MSB is 0\n",
    "\n",
    "1. Exponent = 0xbe = 190\n",
    "2. Mantissa = 0x3759df"
   ]
  },
  {
   "cell_type": "code",
   "execution_count": 178,
   "metadata": {},
   "outputs": [
    {
     "data": {
      "text/plain": [
       "'0xbe'"
      ]
     },
     "execution_count": 178,
     "metadata": {},
     "output_type": "execute_result"
    }
   ],
   "source": [
    "hex(0x5f << 1)"
   ]
  },
  {
   "cell_type": "code",
   "execution_count": 146,
   "metadata": {},
   "outputs": [
    {
     "data": {
      "text/plain": [
       "190"
      ]
     },
     "execution_count": 146,
     "metadata": {},
     "output_type": "execute_result"
    }
   ],
   "source": [
    "0xbe"
   ]
  },
  {
   "cell_type": "code",
   "execution_count": 148,
   "metadata": {},
   "outputs": [
    {
     "name": "stdout",
     "output_type": "stream",
     "text": [
      "Sign: 0, exp: 190, mant: 3627487\n"
     ]
    },
    {
     "data": {
      "text/plain": [
       "'0x3759df'"
      ]
     },
     "execution_count": 148,
     "metadata": {},
     "output_type": "execute_result"
    }
   ],
   "source": [
    "float_report(\"0x5f3759df\")\n",
    "hex(3627487)"
   ]
  },
  {
   "cell_type": "markdown",
   "metadata": {},
   "source": [
    "## The exponent\n",
    "\n",
    "Let's simplify this to a problem which is purely a power of 2. Let's consider `2^4` and how we would use bit manipulation to get `2^-2` as the answer. We're going to deal with odd powers later (since we need to manipulate the mantissa too)\n",
    "\n",
    "\n",
    "Noting that we want a good estimate of the inverse square root, when provided a number in exponent form, we instantly know that halving and inverting the exponent (i.e. making 10 ^ 4 into 10 ^ -2) is a good idea. So that's what we do.\n",
    "\n",
    "For a simple unsigned integer, doing a right shift is enough to halve it's value, i.e. n >> 1. Again, remembering that the exponent is an unsigned 8 bit integer with a -127 offset. To halve a value stored in the exponent form we need to do  \n",
    "`exponent/2 = (exponent - 127) >> 1  + 127`\n",
    "\n",
    "And using this logic, to get the negative half  \n",
    "`-exponent/2 = 127 - ((exponent - 127) >> 1)`\n",
    "\n",
    "Expanding the above we get\n",
    "\n",
    "`127 - (exponent -126 -1) >> 1`  \n",
    "`127 + 63 - (exponent -1) >> 1`  \n",
    "`190 - (exponent -1) >> 1`  \n",
    "\n",
    "Depending on whether we have an odd or even exponent we need to decide on the result of the above. Note even exponents, such as `2^4` would have the float exponent set to `131`. So the above simplifies to \n",
    "\n",
    "`190 - (exponent >> 1)`\n",
    "\n",
    "For even exponents\n",
    "\n",
    "\n",
    "Note that 190 is `0xbe` and we represent this mask as `0x5f000000` after we shift it to the right to make space for the sign bit. \n"
   ]
  },
  {
   "cell_type": "code",
   "execution_count": 167,
   "metadata": {},
   "outputs": [
    {
     "data": {
      "text/plain": [
       "'0x5f0'"
      ]
     },
     "execution_count": 167,
     "metadata": {},
     "output_type": "execute_result"
    }
   ],
   "source": [
    "hex(0xbe0 >> 1)"
   ]
  },
  {
   "cell_type": "code",
   "execution_count": 149,
   "metadata": {},
   "outputs": [
    {
     "name": "stdout",
     "output_type": "stream",
     "text": [
      "Sign: 0, exp: 133, mant: 0\n"
     ]
    },
    {
     "data": {
      "text/plain": [
       "(0, 133, 0)"
      ]
     },
     "execution_count": 149,
     "metadata": {},
     "output_type": "execute_result"
    }
   ],
   "source": [
    "float_report(64)"
   ]
  },
  {
   "cell_type": "code",
   "execution_count": 150,
   "metadata": {},
   "outputs": [
    {
     "name": "stdout",
     "output_type": "stream",
     "text": [
      "Sign: 0, exp: 124, mant: 0\n"
     ]
    },
    {
     "data": {
      "text/plain": [
       "(0, 124, 0)"
      ]
     },
     "execution_count": 150,
     "metadata": {},
     "output_type": "execute_result"
    }
   ],
   "source": [
    "float_report(1/8)"
   ]
  },
  {
   "cell_type": "code",
   "execution_count": 169,
   "metadata": {},
   "outputs": [
    {
     "name": "stdout",
     "output_type": "stream",
     "text": [
      "Sign: 0, exp: 190, mant: 0\n"
     ]
    },
    {
     "data": {
      "text/plain": [
       "(0, 190, 0)"
      ]
     },
     "execution_count": 169,
     "metadata": {},
     "output_type": "execute_result"
    }
   ],
   "source": [
    "float_report(\"0x5f000000\")"
   ]
  },
  {
   "cell_type": "code",
   "execution_count": 190,
   "metadata": {},
   "outputs": [],
   "source": [
    "def inv_sqrt(num):\n",
    "    im = 0x5f000000 - (cast_to_int(num) >> 1)\n",
    "    return cast_to_float(im)"
   ]
  },
  {
   "cell_type": "code",
   "execution_count": 191,
   "metadata": {},
   "outputs": [
    {
     "data": {
      "text/plain": [
       "0.09375"
      ]
     },
     "execution_count": 191,
     "metadata": {},
     "output_type": "execute_result"
    }
   ],
   "source": [
    "inv_sqrt(64)"
   ]
  },
  {
   "cell_type": "code",
   "execution_count": 192,
   "metadata": {},
   "outputs": [
    {
     "data": {
      "text/plain": [
       "0.125"
      ]
     },
     "execution_count": 192,
     "metadata": {},
     "output_type": "execute_result"
    }
   ],
   "source": [
    "inv_sqrt(32)"
   ]
  },
  {
   "cell_type": "code",
   "execution_count": 193,
   "metadata": {},
   "outputs": [
    {
     "data": {
      "text/plain": [
       "0.125"
      ]
     },
     "execution_count": 193,
     "metadata": {},
     "output_type": "execute_result"
    }
   ],
   "source": [
    "1/8 "
   ]
  },
  {
   "cell_type": "markdown",
   "metadata": {},
   "source": [
    "We're not quite there, what happened? Well, when we have floating point numbers, our shift from the exponent falls into the mantissa. This makes our mantissa from 1 to 1.5. When we have an odd exponent, we don't have this scale factor happen and instead get ceiling of the exponent halved. \n",
    "Hence 2^5 = 32 will have 2^-3 at the end of the above process, while 2^6  will have a value shifted into the mantissa that results the exponent getting a value of -3 and the subtraction results in another drop for the exponent to -4 which is then boosted by the mantissa going from 1 to 1.5.\n",
    "To fix this, we're going to bitmask the result of the division so we have the expected division each time, i.e. we take the ceiling of the power \n"
   ]
  },
  {
   "cell_type": "code",
   "execution_count": 194,
   "metadata": {},
   "outputs": [
    {
     "name": "stdout",
     "output_type": "stream",
     "text": [
      "Sign: 0, exp: 133, mant: 0x0\n"
     ]
    },
    {
     "data": {
      "text/plain": [
       "(0, 133, 0)"
      ]
     },
     "execution_count": 194,
     "metadata": {},
     "output_type": "execute_result"
    }
   ],
   "source": [
    "float_report(64)"
   ]
  },
  {
   "cell_type": "code",
   "execution_count": 197,
   "metadata": {},
   "outputs": [
    {
     "name": "stdout",
     "output_type": "stream",
     "text": [
      "Sign: 0, exp: 132, mant: 0x0\n"
     ]
    },
    {
     "data": {
      "text/plain": [
       "(0, 132, 0)"
      ]
     },
     "execution_count": 197,
     "metadata": {},
     "output_type": "execute_result"
    }
   ],
   "source": [
    "float_report(32)"
   ]
  },
  {
   "cell_type": "code",
   "execution_count": 195,
   "metadata": {},
   "outputs": [
    {
     "name": "stdout",
     "output_type": "stream",
     "text": [
      "Sign: 0, exp: 123, mant: 0x400000\n"
     ]
    },
    {
     "data": {
      "text/plain": [
       "(0, 123, 4194304)"
      ]
     },
     "execution_count": 195,
     "metadata": {},
     "output_type": "execute_result"
    }
   ],
   "source": [
    "float_report(0.09375)"
   ]
  },
  {
   "cell_type": "code",
   "execution_count": 196,
   "metadata": {},
   "outputs": [
    {
     "data": {
      "text/plain": [
       "0.09375"
      ]
     },
     "execution_count": 196,
     "metadata": {},
     "output_type": "execute_result"
    }
   ],
   "source": [
    "1.5 * 2**-4"
   ]
  },
  {
   "cell_type": "markdown",
   "metadata": {},
   "source": [
    "We now mask the 23 bits that make up the mantissa to set it to 0 so we don't need to worry too much about how the shifting rolls into the mantissa. This mask is given by 0xff80000, i.e. we let through the first 9 bits and block the next 23 - this can also be done via string construction"
   ]
  },
  {
   "cell_type": "code",
   "execution_count": 176,
   "metadata": {},
   "outputs": [
    {
     "data": {
      "text/plain": [
       "'0xff800000'"
      ]
     },
     "execution_count": 176,
     "metadata": {},
     "output_type": "execute_result"
    }
   ],
   "source": [
    "binarymask = \"1\" * 9 + \"0\" * 23\n",
    "hex(int(binarymask,2))"
   ]
  },
  {
   "cell_type": "code",
   "execution_count": 198,
   "metadata": {},
   "outputs": [
    {
     "data": {
      "text/plain": [
       "0.125"
      ]
     },
     "execution_count": 198,
     "metadata": {},
     "output_type": "execute_result"
    }
   ],
   "source": [
    "def inv_sqrt(num):\n",
    "    im = 0x5f000000 - ((cast_to_int(num) >> 1) & 0xff800000)\n",
    "    return cast_to_float(im)\n",
    "\n",
    "inv_sqrt(64)"
   ]
  },
  {
   "cell_type": "code",
   "execution_count": 199,
   "metadata": {},
   "outputs": [
    {
     "data": {
      "text/plain": [
       "0.125"
      ]
     },
     "execution_count": 199,
     "metadata": {},
     "output_type": "execute_result"
    }
   ],
   "source": [
    "inv_sqrt(32)"
   ]
  },
  {
   "cell_type": "code",
   "execution_count": 184,
   "metadata": {},
   "outputs": [
    {
     "data": {
      "text/plain": [
       "0.25"
      ]
     },
     "execution_count": 184,
     "metadata": {},
     "output_type": "execute_result"
    }
   ],
   "source": [
    "inv_sqrt(16)"
   ]
  },
  {
   "cell_type": "code",
   "execution_count": 207,
   "metadata": {},
   "outputs": [
    {
     "data": {
      "text/plain": [
       "8.0"
      ]
     },
     "execution_count": 207,
     "metadata": {},
     "output_type": "execute_result"
    }
   ],
   "source": [
    "inv_sqrt(1/64)"
   ]
  },
  {
   "cell_type": "code",
   "execution_count": 208,
   "metadata": {},
   "outputs": [
    {
     "data": {
      "text/plain": [
       "4.0"
      ]
     },
     "execution_count": 208,
     "metadata": {},
     "output_type": "execute_result"
    }
   ],
   "source": [
    "inv_sqrt(1/32)"
   ]
  },
  {
   "cell_type": "markdown",
   "metadata": {},
   "source": [
    "What about the mantissa? "
   ]
  }
 ],
 "metadata": {
  "kernelspec": {
   "display_name": "Python 3",
   "language": "python",
   "name": "python3"
  },
  "language_info": {
   "codemirror_mode": {
    "name": "ipython",
    "version": 3
   },
   "file_extension": ".py",
   "mimetype": "text/x-python",
   "name": "python",
   "nbconvert_exporter": "python",
   "pygments_lexer": "ipython3",
   "version": "3.6.7"
  }
 },
 "nbformat": 4,
 "nbformat_minor": 2
}
