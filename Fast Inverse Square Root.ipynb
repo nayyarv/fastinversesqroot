{
 "cells": [
  {
   "cell_type": "code",
   "execution_count": null,
   "metadata": {},
   "outputs": [],
   "source": [
    "from math import log10\n"
   ]
  },
  {
   "cell_type": "code",
   "execution_count": 202,
   "metadata": {},
   "outputs": [],
   "source": [
    "from ctypes import c_uint, c_float\n",
    "\n",
    "def cast(num, rettype):\n",
    "    \"\"\"\n",
    "    Given a ctypes type, it attempts to read read a number from \n",
    "    some memory type and interpret it as a different type\n",
    "    This will have overhead, but will provide a cast like interface\n",
    "    \"\"\"\n",
    "    return rettype.from_buffer(num).value\n",
    "\n",
    "def cast_int_as_float(n):\n",
    "    return cast(c_uint(n), c_float)\n",
    "\n",
    "def cast_to_float(n):\n",
    "    return cast(c_uint(n), c_float)\n",
    "\n",
    "def cast_float_as_int(n):\n",
    "    return cast(c_float(n), c_uint)\n",
    "\n",
    "def cast_to_int(n):\n",
    "    return cast(c_float(n), c_uint)\n"
   ]
  },
  {
   "cell_type": "code",
   "execution_count": 182,
   "metadata": {},
   "outputs": [],
   "source": [
    "def fast_inv_sqrt(num):\n",
    "    halfnum = 0.5 * num\n",
    "    # take the number, make it a float and read it into an integer\n",
    "    inum = cast_float_as_int(num)\n",
    "    # use the hack\n",
    "    hack = 0x5f3759df - (inum >> 1)\n",
    "    # back into floating point\n",
    "    fnum = cast_int_as_float(hack)\n",
    "    print(f\"guess {fnum}\")\n",
    "    return fnum * (1.5 - halfnum * fnum * fnum) \n",
    "    \n",
    "def inv_sqrt(num):\n",
    "    return 1/num**(0.5)"
   ]
  },
  {
   "cell_type": "code",
   "execution_count": 177,
   "metadata": {},
   "outputs": [
    {
     "data": {
      "text/plain": [
       "1.1207861519762848e-08"
      ]
     },
     "execution_count": 177,
     "metadata": {},
     "output_type": "execute_result"
    }
   ],
   "source": [
    "test_num = 250\n",
    "(fast_inv_sqrt(test_num) - inv_sqrt(test_num))**2"
   ]
  },
  {
   "cell_type": "markdown",
   "metadata": {},
   "source": [
    "# Floating Point Numbers\n",
    "\n",
    "For the sake of simplicity, let us look at 32 bit floats. A 32 bit float is divided into 3 sections:\n",
    "\n",
    "1. The first bit for the sign. 1 in this location represents a negative number\n",
    "2. The next 8 bits for the exponent. This uses unsigned representation, but is normalised by subtracting -127 to get the floating point ranges. Note, this is not using 2's complement for it's representation. 1 in this space represents -126 and 0x80 represents 1 for example. (It's effectively a negative 2's complement)\n",
    "3. The remaining 23 bits for the mantissa. This is represented in fixed point with 1 to be added. I.e. the leading bit represents 0.5 to which 1 is added for the mantissa expression. \n",
    "\n",
    "So a floating point is given by by\n",
    "`sign * (1 + mantissa) * 2 ^ exponent`\n",
    "\n",
    "There is a special denormalised mode, when the exponent is 0, the exponent is treated as -126 and the 1+mantissa becomes just mantissa.\n",
    "\n",
    "This link here: https://www.h-schmidt.net/FloatConverter/IEEE754.html should give you some additional insight. And Wikipedia: https://en.wikipedia.org/wiki/Single-precision_floating-point_format explains it in depth too\n",
    "\n",
    "Some of this should explain things we've seen using floating point\n",
    "\n",
    "1. Since the mantissa is fixed point, the (1+mantissa) is effectively from 1 to 2\n",
    "2. That the largest number is 2 * 2 ^ 127 = 2^ 128 ~ 3.4 * 10 ^ 38\n",
    "3. Smallest positive is obtained from the denormalised mode with is 2^-126 * 2 ^-23 = 2 ^ -149 ~ 7.0 x 10^-46\n",
    "4. Smallest change in an arbitrary floating point is given by 2 ^ -23 ~ 1.19 * 10 ^-7"
   ]
  },
  {
   "cell_type": "markdown",
   "metadata": {},
   "source": [
    "# Fast Inverse Square Root\n",
    "\n",
    "The Fast inverse square root is just Newton's method with a good initial guess. Follow the maths here for some more information: https://betterexplained.com/articles/understanding-quakes-fast-inverse-square-root/. \n",
    "\n",
    "\n",
    "# The Initial guess\n",
    "\n",
    "This line`0x5f3759df - (inum >> 1)` is the secret sauce above, getting a good approximation. Let's break this down.\n",
    "\n",
    "Noting that the exponent is a bit out of sync with the mantissa, let's rewrite the magic number slightly\n",
    "\n",
    "1. Exponent = 0xbe = 189\n",
    "2. Mantissa = 0x3759df"
   ]
  },
  {
   "cell_type": "code",
   "execution_count": 178,
   "metadata": {},
   "outputs": [
    {
     "data": {
      "text/plain": [
       "'0xbe'"
      ]
     },
     "execution_count": 178,
     "metadata": {},
     "output_type": "execute_result"
    }
   ],
   "source": [
    "hex(0x5f << 1)"
   ]
  },
  {
   "cell_type": "markdown",
   "metadata": {},
   "source": [
    "## The exponent\n",
    "\n",
    "Let's simplify this to a problem which is purely a power of 2. Let's consider `2^4` and how we would use bit manipulation to get `2^-2` as the answer. We're going to deal with odd powers later (since we need to manipulate the mantissa too)\n",
    "\n",
    "\n",
    "Noting that we want a good estimate of the inverse square root, when provided a number in exponent form, we instantly know that halving and inverting the exponent (i.e. making 10 ^ 4 into 10 ^ -2) is a good idea. So that's what we do.\n",
    "\n",
    "For a simple unsigned integer, doing a right shift is enough to halve it's value, i.e. n >> 1. Again, remembering that the exponent is an unsigned 8 bit integer with a -127 offset. To halve a value stored in the exponent form we need to do  \n",
    "`exponent/2 = (exponent - 127) >> 1  + 127`\n",
    "\n",
    "And using this logic, to get the negative half  \n",
    "`-exponent/2 = 127 - ((exponent - 127) >> 1)`\n",
    "\n",
    "Expanding the above we get\n",
    "\n",
    "`127 - (exponent -126 -1) >> 1`  \n",
    "`127 + 63 - (exponent -1) >> 1`  \n",
    "`190 - (exponent -1) >> 1`  \n",
    "\n",
    "Depending on whether we have an odd or even exponent we need to decide on the result of the above. Note even exponents, such as `2^4` would have the float exponent set to `131`. So the above simplifies to \n",
    "\n",
    "`190 - (exponent >> 1)`\n",
    "\n",
    "This 190 is 1 off from the 189 above and we'll come across why later\n",
    "\n",
    "Note that 190 is `0xbf` and we represent this mask as `0x5f800000` after we shift it to the right to make space for the sign bit. "
   ]
  },
  {
   "cell_type": "code",
   "execution_count": 241,
   "metadata": {},
   "outputs": [
    {
     "data": {
      "text/plain": [
       "'0x5f8'"
      ]
     },
     "execution_count": 241,
     "metadata": {},
     "output_type": "execute_result"
    }
   ],
   "source": [
    "hex(0xbf0 >> 1)"
   ]
  },
  {
   "cell_type": "code",
   "execution_count": 203,
   "metadata": {},
   "outputs": [
    {
     "data": {
      "text/plain": [
       "0.1875"
      ]
     },
     "execution_count": 203,
     "metadata": {},
     "output_type": "execute_result"
    }
   ],
   "source": [
    "cast_to_float(0x5f800000 - (cast_to_int(64.0) >> 1))"
   ]
  },
  {
   "cell_type": "code",
   "execution_count": 201,
   "metadata": {},
   "outputs": [
    {
     "data": {
      "text/plain": [
       "0.125"
      ]
     },
     "execution_count": 201,
     "metadata": {},
     "output_type": "execute_result"
    }
   ],
   "source": [
    "1/8"
   ]
  },
  {
   "cell_type": "markdown",
   "metadata": {},
   "source": [
    "We're not quite there, what happened? Well, when we have floating point numbers, our shift from the exponent falls into the mantissa. This makes our mantissa from 1 to 1.5. When we have an odd exponent, we don't have this scale factor happen and instead get floor of the exponent halved."
   ]
  },
  {
   "cell_type": "code",
   "execution_count": 204,
   "metadata": {},
   "outputs": [
    {
     "data": {
      "text/plain": [
       "0.1875"
      ]
     },
     "execution_count": 204,
     "metadata": {},
     "output_type": "execute_result"
    }
   ],
   "source": [
    "1/8 * 1.5"
   ]
  },
  {
   "cell_type": "code",
   "execution_count": 244,
   "metadata": {},
   "outputs": [
    {
     "data": {
      "text/plain": [
       "0.25"
      ]
     },
     "execution_count": 244,
     "metadata": {},
     "output_type": "execute_result"
    }
   ],
   "source": [
    "cast_to_float(0x5f800000 - (cast_to_int(32.0) >> 1))"
   ]
  },
  {
   "cell_type": "markdown",
   "metadata": {},
   "source": [
    "To fix this, we can change the 8 to 4 to catch the overflow. "
   ]
  },
  {
   "cell_type": "code",
   "execution_count": 242,
   "metadata": {},
   "outputs": [
    {
     "data": {
      "text/plain": [
       "0.25"
      ]
     },
     "execution_count": 242,
     "metadata": {},
     "output_type": "execute_result"
    }
   ],
   "source": [
    "cast_to_float(0x5f800000 - (cast_to_int(32.0) >> 1))"
   ]
  },
  {
   "cell_type": "code",
   "execution_count": 238,
   "metadata": {},
   "outputs": [
    {
     "data": {
      "text/plain": [
       "0.25"
      ]
     },
     "execution_count": 238,
     "metadata": {},
     "output_type": "execute_result"
    }
   ],
   "source": [
    "cast_to_float(0x5f400000 - (cast_to_int(16) >> 1))"
   ]
  },
  {
   "cell_type": "code",
   "execution_count": 239,
   "metadata": {},
   "outputs": [
    {
     "data": {
      "text/plain": [
       "2.0"
      ]
     },
     "execution_count": 239,
     "metadata": {},
     "output_type": "execute_result"
    }
   ],
   "source": [
    "cast_to_float(0x5f400000 - (cast_to_int(0.25) >> 1))"
   ]
  },
  {
   "cell_type": "markdown",
   "metadata": {},
   "source": [
    "This doesn't work for "
   ]
  },
  {
   "cell_type": "code",
   "execution_count": 248,
   "metadata": {},
   "outputs": [
    {
     "data": {
      "text/plain": [
       "0.171875"
      ]
     },
     "execution_count": 248,
     "metadata": {},
     "output_type": "execute_result"
    }
   ],
   "source": [
    "cast_to_float(0x5f300000 - (cast_to_int(32) >> 1))"
   ]
  },
  {
   "cell_type": "code",
   "execution_count": null,
   "metadata": {},
   "outputs": [],
   "source": []
  }
 ],
 "metadata": {
  "kernelspec": {
   "display_name": "Python 3",
   "language": "python",
   "name": "python3"
  },
  "language_info": {
   "codemirror_mode": {
    "name": "ipython",
    "version": 3
   },
   "file_extension": ".py",
   "mimetype": "text/x-python",
   "name": "python",
   "nbconvert_exporter": "python",
   "pygments_lexer": "ipython3",
   "version": "3.6.7"
  }
 },
 "nbformat": 4,
 "nbformat_minor": 2
}
